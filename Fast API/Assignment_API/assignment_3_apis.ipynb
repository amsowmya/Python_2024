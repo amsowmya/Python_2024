{
 "cells": [
  {
   "cell_type": "markdown",
   "id": "627bc77b",
   "metadata": {},
   "source": [
    "<h2 align=\"center\" style=\"color:blue\">Codebasics Python Course: Exercise - APIs in Python</h2>"
   ]
  },
  {
   "cell_type": "markdown",
   "id": "9af20118",
   "metadata": {},
   "source": [
    "The Open Brewery DB API offers detailed data on various breweries across the United States. \n",
    "\n",
    "--\n",
    "\n",
    "### Task 1: Fetch Brewery Data for Non-alcoholic Drink manufacturer - US client\n",
    "\n",
    "**Scenario:**\n",
    "\n",
    "As Tony Sharma mentioned during the call, he needs details about all the breweries in a specific state.\n",
    "\n",
    "Your task is to use the Open Brewery DB API to fetch and display brewery details based on a given state, which will be helpful for his client call tomorrow.\n",
    "\n",
    "**Write a Python program that:**\n",
    "\n",
    "1. Uses the `requests` library to call the Open Brewery DB API to fetch brewery data based on a given state.\n",
    "2. Parses the JSON response.\n",
    "3. Extracts and displays the name, type, and location (city) of each brewery.\n",
    "4. Handles errors gracefully (e.g., network issues or invalid API requests).\n",
    "\n",
    "Example URL for Texas Breweries: `https://api.openbrewerydb.org/breweries?by_state=texas`"
   ]
  },
  {
   "cell_type": "code",
   "execution_count": 36,
   "id": "fb8e0c48",
   "metadata": {},
   "outputs": [
    {
     "name": "stdout",
     "output_type": "stream",
     "text": [
      "Breweries in New York\n",
      "- 12 Gates Brewing Company (brewpub) located in Williamsville, New York\n",
      "- 16 Stone Brewpub (brewpub) located in Holland Patent, New York\n",
      "- 1940's Brewing Company (micro) located in Holbrook, New York\n",
      "- 2 Way Brewing Company (brewpub) located in Beacon, New York\n",
      "- 212 Brewing Company (contract) located in Davenport, New York\n",
      "- 42 North Brewing Company (brewpub) located in East Aurora, New York\n",
      "- 6 Degrees of Separation (brewpub) located in Ossining, New York\n",
      "- 7 Sins Brewery (micro) located in Ripley, New York\n",
      "- 8th Ward Brewing Company (planning) located in Poughkeepsie, New York\n",
      "- Abandon Brewing (micro) located in Penn Yan, New York\n",
      "- Adirondack Pub and Brewery (micro) located in Lake George, New York\n",
      "- Adirondack Toboggan Company Microbrewery (micro) located in Gouverneur, New York\n",
      "- Akwesasne Mohawk Casino Resort (planning) located in Akwesasne, New York\n",
      "- Alewife Brewing Company (brewpub) located in Long Island City, New York\n",
      "- Alphabet City Brewing Co (contract) located in New York, New York\n",
      "- Amber Lantern Brewing Company (brewpub) located in Warsaw, New York\n",
      "- Andean Brewing (micro) located in Blauvelt, New York\n",
      "- Anheuser-Busch Inc â Baldwinsville (large) located in Baldwinsville, New York\n",
      "- Apex Brewery (planning) located in Central Valley, New York\n",
      "- Argyle Brewing Company (micro) located in Greenwich, New York\n",
      "- Arrowood Farms (micro) located in Accord, New York\n",
      "- Artisanal Brew Works (micro) located in Saratoga Springs, New York\n",
      "- Aurora Ale & Lager (micro) located in King Ferry, New York\n",
      "- Ausable Brewing Co (micro) located in Keeseville, New York\n",
      "- B9 Beverages Inc (contract) located in New York, New York\n",
      "- Bacchus Brewing (micro) located in Dryden, New York\n",
      "- Bandwagon Brewery (micro) located in Interlaken, New York\n",
      "- BarkEater Craft Brewery (proprietor) located in Lowville, New York\n",
      "- Barnshed Brewing (micro) located in Hicksville, New York\n",
      "- Barrage Brewing Co (micro) located in Farmingdale, New York\n",
      "- Barrier Brewing Co (micro) located in Oceanside, New York\n",
      "- Battle Hill Brewing Company (micro) located in Fort Ann, New York\n",
      "- Beer Tree Brew Co (micro) located in Port Crane, New York\n",
      "- Bellport Brewing Company (proprietor) located in Rocky Point, New York\n",
      "- Big Alice Brewing Company (micro) located in Long Island City, New York\n",
      "- Big Ditch Brewing Company (micro) located in Buffalo, New York\n",
      "- Big Inlet Brewing (planning) located in Mayville, New York\n",
      "- Big Slide Brewery (brewpub) located in Lake Placid, New York\n",
      "- Big Tupper Brewing (brewpub) located in Tupper Lake, New York\n",
      "- Binghamton Brewing Co (micro) located in Johnson City, New York\n",
      "- Birreria @ Eataly (brewpub) located in New York, New York\n",
      "- Black Forest Brew Haus (brewpub) located in Farmingdale, New York\n",
      "- Blind Bat Brewery LLC, The (micro) located in Centerport, New York\n",
      "- Blue Collar Brewery, Inc. (brewpub) located in Poughkeepsie, New York\n",
      "- Blue Line Brewery (brewpub) located in Saranac Lake, New York\n",
      "- Blue Point Brewing (large) located in Patchogue, New York\n",
      "- Blue Point Brewing Co (large) located in Patchogue, New York\n",
      "- Bolton Landing Brewing Co. (micro) located in Bolton Landing, New York\n",
      "- Boots Brewing Company, Inc. (micro) located in Watertown, New York\n",
      "- Bottomless Brewing, LLC (brewpub) located in Geneva, New York\n"
     ]
    }
   ],
   "source": [
    "# write your code here\n",
    "import requests\n",
    "\n",
    "def fetch_breweries_by_state(state):\n",
    "    url = f\"https://api.openbrewerydb.org/breweries?by_state={state.replace(' ', '_')}\"\n",
    "    try:\n",
    "        response = requests.get(url)\n",
    "        response.raise_for_status()\n",
    "        breweries = response.json()\n",
    "        if not breweries:\n",
    "            return \"No breweries found in the specific state\"\n",
    "        return breweries\n",
    "    except requests.exceptions.HTTPError as err:\n",
    "        return f\"HTTP error occured: {err}\"\n",
    "    except Exception as e:\n",
    "        return f\"An error occurred: {err}\"\n",
    "\n",
    "state = \"New York\"\n",
    "breweries_info = fetch_breweries_by_state(state)\n",
    "\n",
    "print(f\"Breweries in {state}\")\n",
    "for brewery in breweries_info:\n",
    "    name = brewery['name']\n",
    "    brew_type = brewery['brewery_type']\n",
    "    location = f\"{brewery['city']}, {brewery['state']}\"\n",
    "    print(f\"- {name} ({brew_type}) located in {location}\")\n"
   ]
  },
  {
   "cell_type": "markdown",
   "id": "d7533165",
   "metadata": {},
   "source": [
    "\n",
    "JSONPlaceholder offers a set of APIs for typical CRUD (Create, Read, Update, Delete) operations, making it an excellent resource for learning and testing HTTP requests.\n",
    "\n",
    "--\n",
    "\n",
    "### Task 2: Fetch User Data for AtliQ Client Project\n",
    "\n",
    "**Scenario:** As a quick favor, Loki shared an ad-hoc task with you. He needs help with a user profile component for an Atliq client application, using JSONPlaceholder to simulate fetching user data.\n",
    "\n",
    "**Objective:** Create a function `fetch_user_data` that uses JSONPlaceholder’s API to retrieve and format user details.\n",
    "\n",
    "**Steps:**\n",
    "\n",
    "1. Fetch user data from JSONPlaceholder.\n",
    "2. Format the data to include 'name', 'email', and 'address'.\n",
    "3. Return the data as a dictionary.\n",
    "\n",
    "**Expected Output:**\n",
    "\n",
    "```\n",
    "{\n",
    "    'name': 'Leanne Graham',\n",
    "    'email': 'Sincere@april.biz',\n",
    "    'address': 'Kulas Light, Gwenborough'\n",
    "}\n",
    "\n",
    "\n",
    "\n",
    "```"
   ]
  },
  {
   "cell_type": "code",
   "execution_count": 38,
   "id": "bc84ea40",
   "metadata": {},
   "outputs": [
    {
     "data": {
      "text/plain": [
       "{'name': 'Leanne Graham',\n",
       " 'email': 'Sincere@april.biz',\n",
       " 'address': 'Kulas Light, Gwenborough'}"
      ]
     },
     "execution_count": 38,
     "metadata": {},
     "output_type": "execute_result"
    }
   ],
   "source": [
    "# write your code here\n",
    "\n",
    "def fetch_user_data(user_id):\n",
    "    url = f'https://jsonplaceholder.typicode.com/users/{user_id}'\n",
    "    try:\n",
    "        response = requests.get(url)\n",
    "        response.raise_for_status()\n",
    "        data = response.json()\n",
    "        user_name = data['name']\n",
    "        user_email = data['email']\n",
    "        user_address = f\"{data['address']['street']}, {data['address']['city']}\"\n",
    "        return {\n",
    "            'name': user_name,\n",
    "            'email': user_email,\n",
    "            'address': user_address\n",
    "        }\n",
    "    except requests.exceptions.HTTPError as err:\n",
    "        return f\"HTTP error occured: {err}\"\n",
    "    except Exception as err:\n",
    "        return f\"An error occurred: {err}\"\n",
    "    \n",
    "\n",
    "user_id = 1\n",
    "user_info = fetch_user_data(user_id)\n",
    "user_info"
   ]
  },
  {
   "cell_type": "code",
   "execution_count": null,
   "id": "d665284c-cf7f-4480-8f38-83a72fc185b2",
   "metadata": {},
   "outputs": [],
   "source": []
  }
 ],
 "metadata": {
  "kernelspec": {
   "display_name": "Python 3 (ipykernel)",
   "language": "python",
   "name": "python3"
  },
  "language_info": {
   "codemirror_mode": {
    "name": "ipython",
    "version": 3
   },
   "file_extension": ".py",
   "mimetype": "text/x-python",
   "name": "python",
   "nbconvert_exporter": "python",
   "pygments_lexer": "ipython3",
   "version": "3.10.0"
  }
 },
 "nbformat": 4,
 "nbformat_minor": 5
}
