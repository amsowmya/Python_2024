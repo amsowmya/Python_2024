{
 "cells": [
  {
   "cell_type": "code",
   "execution_count": 3,
   "metadata": {},
   "outputs": [],
   "source": [
    "import os"
   ]
  },
  {
   "cell_type": "code",
   "execution_count": 4,
   "metadata": {},
   "outputs": [],
   "source": [
    "class Backpack:\n",
    "    def __init__(self):\n",
    "        self._items = []\n",
    "\n",
    "    @property \n",
    "    def items(self):\n",
    "        return self._items \n",
    "    \n",
    "    def add_items(self, item):\n",
    "        if isinstance(item, str):\n",
    "            self._items.append(item) \n",
    "        else:\n",
    "            print(\"Please enter valid value\")\n",
    "\n",
    "    def remove_items(self, item):\n",
    "        if item in self._items:\n",
    "            self._items.remove(item)\n",
    "            return 1 \n",
    "        else:\n",
    "            return 0\n",
    "\n",
    "    def has_item(self, item):\n",
    "        return item in self._items"
   ]
  },
  {
   "cell_type": "code",
   "execution_count": 5,
   "metadata": {},
   "outputs": [],
   "source": [
    "backpack = Backpack()"
   ]
  },
  {
   "cell_type": "code",
   "execution_count": 6,
   "metadata": {},
   "outputs": [],
   "source": [
    "backpack.add_items(\"pen\")"
   ]
  },
  {
   "cell_type": "code",
   "execution_count": 7,
   "metadata": {},
   "outputs": [
    {
     "data": {
      "text/plain": [
       "['pen']"
      ]
     },
     "execution_count": 7,
     "metadata": {},
     "output_type": "execute_result"
    }
   ],
   "source": [
    "backpack.items"
   ]
  },
  {
   "cell_type": "code",
   "execution_count": 8,
   "metadata": {},
   "outputs": [],
   "source": [
    "backpack.add_items(\"book\")"
   ]
  },
  {
   "cell_type": "code",
   "execution_count": 9,
   "metadata": {},
   "outputs": [
    {
     "data": {
      "text/plain": [
       "['pen', 'book']"
      ]
     },
     "execution_count": 9,
     "metadata": {},
     "output_type": "execute_result"
    }
   ],
   "source": [
    "backpack.items"
   ]
  },
  {
   "cell_type": "code",
   "execution_count": 10,
   "metadata": {},
   "outputs": [
    {
     "data": {
      "text/plain": [
       "1"
      ]
     },
     "execution_count": 10,
     "metadata": {},
     "output_type": "execute_result"
    }
   ],
   "source": [
    "backpack.remove_items(\"book\")"
   ]
  },
  {
   "cell_type": "code",
   "execution_count": 11,
   "metadata": {},
   "outputs": [
    {
     "data": {
      "text/plain": [
       "['pen']"
      ]
     },
     "execution_count": 11,
     "metadata": {},
     "output_type": "execute_result"
    }
   ],
   "source": [
    "backpack.items"
   ]
  },
  {
   "cell_type": "code",
   "execution_count": 12,
   "metadata": {},
   "outputs": [
    {
     "data": {
      "text/plain": [
       "True"
      ]
     },
     "execution_count": 12,
     "metadata": {},
     "output_type": "execute_result"
    }
   ],
   "source": [
    "backpack.has_item(\"pen\")"
   ]
  },
  {
   "cell_type": "code",
   "execution_count": 13,
   "metadata": {},
   "outputs": [
    {
     "data": {
      "text/plain": [
       "False"
      ]
     },
     "execution_count": 13,
     "metadata": {},
     "output_type": "execute_result"
    }
   ],
   "source": [
    "backpack.has_item(\"book\")"
   ]
  },
  {
   "cell_type": "code",
   "execution_count": 14,
   "metadata": {},
   "outputs": [],
   "source": [
    "list_items = [9, 4, 5, 6, 7, 8]"
   ]
  },
  {
   "cell_type": "code",
   "execution_count": 15,
   "metadata": {},
   "outputs": [
    {
     "data": {
      "text/plain": [
       "[4, 5, 6, 7, 8, 9]"
      ]
     },
     "execution_count": 15,
     "metadata": {},
     "output_type": "execute_result"
    }
   ],
   "source": [
    "list_items.sort()\n",
    "list_items"
   ]
  },
  {
   "cell_type": "code",
   "execution_count": 16,
   "metadata": {},
   "outputs": [
    {
     "data": {
      "text/plain": [
       "[4, 5, 6, 7, 8, 9, 0]"
      ]
     },
     "execution_count": 16,
     "metadata": {},
     "output_type": "execute_result"
    }
   ],
   "source": [
    "list_items.append(0)\n",
    "list_items"
   ]
  },
  {
   "cell_type": "code",
   "execution_count": 17,
   "metadata": {},
   "outputs": [
    {
     "data": {
      "text/plain": [
       "[4, 5, 6, 7, 8, 9, 0, 1, 2, 3]"
      ]
     },
     "execution_count": 17,
     "metadata": {},
     "output_type": "execute_result"
    }
   ],
   "source": [
    "list_items.extend([1, 2, 3])\n",
    "list_items"
   ]
  },
  {
   "cell_type": "code",
   "execution_count": 18,
   "metadata": {},
   "outputs": [
    {
     "data": {
      "text/plain": [
       "3"
      ]
     },
     "execution_count": 18,
     "metadata": {},
     "output_type": "execute_result"
    }
   ],
   "source": [
    "number = list_items.pop()\n",
    "number"
   ]
  },
  {
   "cell_type": "code",
   "execution_count": 19,
   "metadata": {},
   "outputs": [
    {
     "data": {
      "text/plain": [
       "[4, 5, 6, 7, 8, 9, 0, 1, 2]"
      ]
     },
     "execution_count": 19,
     "metadata": {},
     "output_type": "execute_result"
    }
   ],
   "source": [
    "list_items"
   ]
  },
  {
   "cell_type": "code",
   "execution_count": 20,
   "metadata": {},
   "outputs": [],
   "source": [
    "import os"
   ]
  },
  {
   "cell_type": "code",
   "execution_count": 21,
   "metadata": {},
   "outputs": [],
   "source": [
    "class Player:\n",
    "    def __init__(self, x, y):\n",
    "        self.x = x \n",
    "        self.y = y \n",
    "\n",
    "    def move_up(self, change=5):\n",
    "        self.y += change \n",
    "\n",
    "    def move_down(self, change=5):\n",
    "        self.y -= change \n",
    "\n",
    "    def move_right(self, change=2):\n",
    "        self.x += change \n",
    "\n",
    "    def move_left(self, change=2):\n",
    "        self.x -= change \n",
    "        "
   ]
  },
  {
   "cell_type": "code",
   "execution_count": 22,
   "metadata": {},
   "outputs": [],
   "source": [
    "player = Player(5, 10)"
   ]
  },
  {
   "cell_type": "code",
   "execution_count": 23,
   "metadata": {},
   "outputs": [
    {
     "name": "stdout",
     "output_type": "stream",
     "text": [
      "None\n",
      "None\n"
     ]
    }
   ],
   "source": [
    "print(player.move_up())\n",
    "print(player.move_up(2))"
   ]
  },
  {
   "cell_type": "code",
   "execution_count": 24,
   "metadata": {},
   "outputs": [
    {
     "name": "stdout",
     "output_type": "stream",
     "text": [
      "None\n",
      "None\n"
     ]
    }
   ],
   "source": [
    "print(player.move_left())\n",
    "print(player.move_left(1))"
   ]
  },
  {
   "cell_type": "code",
   "execution_count": 36,
   "metadata": {},
   "outputs": [],
   "source": [
    "class Backpack:\n",
    "    def __init__(self):\n",
    "        self._items = []\n",
    "\n",
    "    @property \n",
    "    def items(self):\n",
    "        return self._items \n",
    "    \n",
    "    def add_item(self, item):\n",
    "        if isinstance(item, str):\n",
    "            self._items.append(item) \n",
    "        else:\n",
    "            print(\"Please provide the valid item\")\n",
    "\n",
    "    def remove_item(self, item):\n",
    "        if item in self._items:\n",
    "            self._items.remove(item)\n",
    "            return 1\n",
    "        else:\n",
    "            print(\"Item not present in list\")\n",
    "            return 0 \n",
    "        \n",
    "    def has_item(self, item):\n",
    "        return item in self._items\n",
    "    \n",
    "    def show_items(self, sorted_items=False):\n",
    "        if sorted_items:\n",
    "            return sorted(self._items)\n",
    "        else:\n",
    "            return self._items\n",
    "\n",
    "\n",
    "        "
   ]
  },
  {
   "cell_type": "code",
   "execution_count": 37,
   "metadata": {},
   "outputs": [],
   "source": [
    "backpack = Backpack()"
   ]
  },
  {
   "cell_type": "code",
   "execution_count": 38,
   "metadata": {},
   "outputs": [],
   "source": [
    "backpack.add_item(\"bottle\")\n",
    "backpack.add_item(\"Apple\")\n",
    "backpack.add_item(\"cotten\")"
   ]
  },
  {
   "cell_type": "code",
   "execution_count": 39,
   "metadata": {},
   "outputs": [
    {
     "data": {
      "text/plain": [
       "['bottle', 'Apple', 'cotten']"
      ]
     },
     "execution_count": 39,
     "metadata": {},
     "output_type": "execute_result"
    }
   ],
   "source": [
    "backpack.show_items()"
   ]
  },
  {
   "cell_type": "code",
   "execution_count": 40,
   "metadata": {},
   "outputs": [
    {
     "data": {
      "text/plain": [
       "['Apple', 'bottle', 'cotten']"
      ]
     },
     "execution_count": 40,
     "metadata": {},
     "output_type": "execute_result"
    }
   ],
   "source": [
    "backpack.show_items(True)"
   ]
  },
  {
   "cell_type": "code",
   "execution_count": 41,
   "metadata": {},
   "outputs": [],
   "source": [
    "class Backpack:\n",
    "    def __init__(self):\n",
    "        self._items = []\n",
    "\n",
    "    @property \n",
    "    def items(self):\n",
    "        return self._items \n",
    "    \n",
    "    def add_multiple_items(self, items):\n",
    "        for item in items:\n",
    "            self.add_item(item)\n",
    "    \n",
    "    def add_item(self, item):\n",
    "        if isinstance(item, str):\n",
    "            self._items.append(item) \n",
    "        else:\n",
    "            print(\"Please provide the valid item\")"
   ]
  },
  {
   "cell_type": "code",
   "execution_count": 42,
   "metadata": {},
   "outputs": [],
   "source": [
    "backpack = Backpack()"
   ]
  },
  {
   "cell_type": "code",
   "execution_count": 43,
   "metadata": {},
   "outputs": [
    {
     "name": "stdout",
     "output_type": "stream",
     "text": [
      "[]\n",
      "['bottle', 'candy', 'ice cream']\n"
     ]
    }
   ],
   "source": [
    "print(backpack.items)\n",
    "backpack.add_multiple_items([\"bottle\", \"candy\", \"ice cream\"])\n",
    "print(backpack.items)"
   ]
  },
  {
   "cell_type": "code",
   "execution_count": 48,
   "metadata": {},
   "outputs": [],
   "source": [
    "class Calculator:\n",
    "    def add(self, a, b):\n",
    "        print(a+b)\n",
    "\n",
    "    def multiply(self, a, b):\n",
    "        return a*b"
   ]
  },
  {
   "cell_type": "code",
   "execution_count": 49,
   "metadata": {},
   "outputs": [],
   "source": [
    "cal = Calculator()"
   ]
  },
  {
   "cell_type": "code",
   "execution_count": 50,
   "metadata": {},
   "outputs": [
    {
     "name": "stdout",
     "output_type": "stream",
     "text": [
      "5\n",
      "None\n"
     ]
    }
   ],
   "source": [
    "print(cal.add(2,3))"
   ]
  },
  {
   "cell_type": "code",
   "execution_count": 52,
   "metadata": {},
   "outputs": [
    {
     "name": "stdout",
     "output_type": "stream",
     "text": [
      "12\n"
     ]
    }
   ],
   "source": [
    "print(cal.multiply(3,4))"
   ]
  },
  {
   "cell_type": "code",
   "execution_count": 61,
   "metadata": {},
   "outputs": [],
   "source": [
    "class Pizza:\n",
    "    def __init__(self):\n",
    "        self.toppings = []\n",
    "\n",
    "    def add_topping(self, topping):\n",
    "        self.toppings.append(topping.lower())\n",
    "        return self \n",
    "    \n",
    "    def show_topping(self):\n",
    "        for topping in self.toppings:\n",
    "            print(topping.capitalize())\n"
   ]
  },
  {
   "cell_type": "code",
   "execution_count": 62,
   "metadata": {},
   "outputs": [],
   "source": [
    "pizza = Pizza()"
   ]
  },
  {
   "cell_type": "code",
   "execution_count": 63,
   "metadata": {},
   "outputs": [
    {
     "data": {
      "text/plain": [
       "<__main__.Pizza at 0x2064cf5e2b0>"
      ]
     },
     "execution_count": 63,
     "metadata": {},
     "output_type": "execute_result"
    }
   ],
   "source": [
    "pizza.add_topping(\"Onion\").add_topping(\"chilli\").add_topping(\"Cheese\")"
   ]
  },
  {
   "cell_type": "code",
   "execution_count": 64,
   "metadata": {},
   "outputs": [
    {
     "name": "stdout",
     "output_type": "stream",
     "text": [
      "This Pizza has: \n",
      "Onion\n",
      "Chilli\n",
      "Cheese\n"
     ]
    }
   ],
   "source": [
    "print(\"This Pizza has: \")\n",
    "pizza.show_topping()"
   ]
  },
  {
   "cell_type": "code",
   "execution_count": 73,
   "metadata": {},
   "outputs": [],
   "source": [
    "class CashRegister:\n",
    "\n",
    "    PRODUCT_LIST = {\"Soap\": 10, \"Shampoo\": 5, \"Chacolate\": 15, \"Candy\": 2}\n",
    "        \n",
    "    def __init__(self):\n",
    "        self.items = {}\n",
    "\n",
    "    def add_product(self, product):\n",
    "        if product in CashRegister.PRODUCT_LIST:\n",
    "            if product in self.items:\n",
    "                self.items[product] += 1\n",
    "            else:\n",
    "                self.items[product] = 1 \n",
    "\n",
    "    def remove_product(self, product):\n",
    "        if product in self.items:\n",
    "            self.items[product].remove() \n",
    "\n",
    "    def show_product(self):\n",
    "        for item in self.items.keys():\n",
    "            print(item)\n",
    "\n",
    "    def find_total_amount(self):\n",
    "        total_price = 0\n",
    "        for item in self.items.keys():\n",
    "            no_of_prod = self.items[item]\n",
    "            price = CashRegister.PRODUCT_LIST[item]\n",
    "            total_price += no_of_prod * price\n",
    "        return total_price"
   ]
  },
  {
   "cell_type": "code",
   "execution_count": 74,
   "metadata": {},
   "outputs": [],
   "source": [
    "cash = CashRegister()"
   ]
  },
  {
   "cell_type": "code",
   "execution_count": 75,
   "metadata": {},
   "outputs": [],
   "source": [
    "cash.add_product(\"Shampoo\")\n",
    "cash.add_product(\"Soap\")"
   ]
  },
  {
   "cell_type": "code",
   "execution_count": 76,
   "metadata": {},
   "outputs": [
    {
     "name": "stdout",
     "output_type": "stream",
     "text": [
      "Shampoo\n",
      "Soap\n"
     ]
    }
   ],
   "source": [
    "cash.show_product()"
   ]
  },
  {
   "cell_type": "code",
   "execution_count": 77,
   "metadata": {},
   "outputs": [
    {
     "data": {
      "text/plain": [
       "10"
      ]
     },
     "execution_count": 77,
     "metadata": {},
     "output_type": "execute_result"
    }
   ],
   "source": [
    "cash.find_total_amount()"
   ]
  },
  {
   "cell_type": "code",
   "execution_count": null,
   "metadata": {},
   "outputs": [],
   "source": []
  },
  {
   "cell_type": "code",
   "execution_count": null,
   "metadata": {},
   "outputs": [],
   "source": []
  }
 ],
 "metadata": {
  "kernelspec": {
   "display_name": "base",
   "language": "python",
   "name": "python3"
  },
  "language_info": {
   "codemirror_mode": {
    "name": "ipython",
    "version": 3
   },
   "file_extension": ".py",
   "mimetype": "text/x-python",
   "name": "python",
   "nbconvert_exporter": "python",
   "pygments_lexer": "ipython3",
   "version": "3.9.13"
  },
  "orig_nbformat": 4
 },
 "nbformat": 4,
 "nbformat_minor": 2
}
