{
 "cells": [
  {
   "cell_type": "code",
   "execution_count": 3,
   "metadata": {},
   "outputs": [],
   "source": [
    "class Animal:\n",
    "    def __init__(self, age):\n",
    "        self.age = age \n",
    "\n",
    "class Dog(Animal):\n",
    "    def __init__(self, age, name):\n",
    "        super().__init__(self, age)\n",
    "        self.name = name"
   ]
  },
  {
   "cell_type": "code",
   "execution_count": 4,
   "metadata": {},
   "outputs": [
    {
     "name": "stdout",
     "output_type": "stream",
     "text": [
      "True\n"
     ]
    }
   ],
   "source": [
    "print(issubclass(Dog, Animal))"
   ]
  },
  {
   "cell_type": "code",
   "execution_count": 11,
   "metadata": {},
   "outputs": [],
   "source": [
    "class Polygon:\n",
    "    def __init__(self, no_of_sides, color):\n",
    "        self.no_of_sides = no_of_sides \n",
    "        self.color = color \n",
    "\n",
    "class Trigangle(Polygon):\n",
    "\n",
    "    NUM_SIDES = 3\n",
    "\n",
    "    def __init__(self, base, height, color):\n",
    "        Polygon.__init__(self, Trigangle.NUM_SIDES, color)\n",
    "        self.base = base \n",
    "        self.height = height \n"
   ]
  },
  {
   "cell_type": "code",
   "execution_count": 13,
   "metadata": {},
   "outputs": [
    {
     "name": "stdout",
     "output_type": "stream",
     "text": [
      "8\n",
      "Red\n",
      "5\n",
      "3\n",
      "3\n"
     ]
    }
   ],
   "source": [
    "polygon = Polygon(8, \"Blue\")\n",
    "print(polygon.no_of_sides)\n",
    "\n",
    "triangle = Trigangle(5, 3, \"Red\")\n",
    "print(triangle.color)\n",
    "print(triangle.base)\n",
    "print(triangle.height)\n",
    "print(triangle.no_of_sides)"
   ]
  },
  {
   "cell_type": "code",
   "execution_count": 14,
   "metadata": {},
   "outputs": [],
   "source": [
    "class Dog:\n",
    "    def __init__(self, name, age, breed):\n",
    "        self.name = name \n",
    "        self.age= age \n",
    "        self.breed = breed \n",
    "\n",
    "class Puppy(Dog):\n",
    "    def __init__(self, isVaccinated):\n",
    "        self.isVaccinated = isVaccinated"
   ]
  },
  {
   "cell_type": "code",
   "execution_count": 15,
   "metadata": {},
   "outputs": [],
   "source": [
    "puppy = Puppy(True)"
   ]
  },
  {
   "cell_type": "code",
   "execution_count": 16,
   "metadata": {},
   "outputs": [
    {
     "ename": "AttributeError",
     "evalue": "'Puppy' object has no attribute 'age'",
     "output_type": "error",
     "traceback": [
      "\u001b[1;31m---------------------------------------------------------------------------\u001b[0m",
      "\u001b[1;31mAttributeError\u001b[0m                            Traceback (most recent call last)",
      "\u001b[1;32m~\\AppData\\Local\\Temp\\ipykernel_2016\\2218024422.py\u001b[0m in \u001b[0;36m<module>\u001b[1;34m\u001b[0m\n\u001b[1;32m----> 1\u001b[1;33m \u001b[0mpuppy\u001b[0m\u001b[1;33m.\u001b[0m\u001b[0mage\u001b[0m\u001b[1;33m\u001b[0m\u001b[1;33m\u001b[0m\u001b[0m\n\u001b[0m",
      "\u001b[1;31mAttributeError\u001b[0m: 'Puppy' object has no attribute 'age'"
     ]
    }
   ],
   "source": [
    "puppy.age"
   ]
  },
  {
   "cell_type": "code",
   "execution_count": 17,
   "metadata": {},
   "outputs": [
    {
     "data": {
      "text/plain": [
       "True"
      ]
     },
     "execution_count": 17,
     "metadata": {},
     "output_type": "execute_result"
    }
   ],
   "source": [
    "puppy.isVaccinated"
   ]
  },
  {
   "cell_type": "code",
   "execution_count": 19,
   "metadata": {},
   "outputs": [],
   "source": [
    "class Employee:\n",
    "\n",
    "    def __init__(self, fullname, salary):\n",
    "        self.fullname = fullname \n",
    "        self.salary = salary \n",
    "\n",
    "class progmmer(Employee):\n",
    "\n",
    "    def __init__(self, fullname, salary, programming_lang):\n",
    "        super().__init__(fullname, salary)\n",
    "        self.programming_lang = programming_lang"
   ]
  },
  {
   "cell_type": "code",
   "execution_count": 20,
   "metadata": {},
   "outputs": [
    {
     "name": "stdout",
     "output_type": "stream",
     "text": [
      "Jovie ale\n",
      "40000\n",
      "Python\n"
     ]
    }
   ],
   "source": [
    "prog = progmmer(\"Jovie ale\", 40000, \"Python\")\n",
    "\n",
    "print(prog.fullname)\n",
    "print(prog.salary)\n",
    "print(prog.programming_lang)"
   ]
  },
  {
   "cell_type": "code",
   "execution_count": 21,
   "metadata": {},
   "outputs": [],
   "source": [
    "class Character:\n",
    "\n",
    "    def __init__(self, x, y, num_lives):\n",
    "        self.x = x \n",
    "        self.y = y \n",
    "        self.num_lives = num_lives \n",
    "\n",
    "class Player(Character):\n",
    "\n",
    "    INITIAL_X = 0\n",
    "    INITIAL_Y = 0\n",
    "    INITIAL_NUM_LIVES = 0\n",
    "\n",
    "    def __init__(self, score=0):\n",
    "        super().__init__(Player.INITIAL_X, Player.INITIAL_Y, Player.INITIAL_NUM_LIVES)\n",
    "        self.score = score \n",
    "\n",
    "class Enemy(Character):\n",
    "\n",
    "    def __init__(self, x=15, y=15, num_lives=6, is_poisonous=False):\n",
    "        super().__init__(x, y, num_lives)\n",
    "        self.is_poisonous = is_poisonous \n",
    "\n",
    "        "
   ]
  },
  {
   "cell_type": "code",
   "execution_count": 22,
   "metadata": {},
   "outputs": [
    {
     "name": "stdout",
     "output_type": "stream",
     "text": [
      "0\n",
      "0\n",
      "0\n"
     ]
    }
   ],
   "source": [
    "player = Player()\n",
    "\n",
    "print(player.x)\n",
    "print(player.y)\n",
    "print(player.num_lives)"
   ]
  },
  {
   "cell_type": "code",
   "execution_count": 23,
   "metadata": {},
   "outputs": [],
   "source": [
    "easy_enemy = Enemy(num_lives=9)\n",
    "hard_enemy = Enemy(num_lives=59, is_poisonous=True)"
   ]
  },
  {
   "cell_type": "code",
   "execution_count": 24,
   "metadata": {},
   "outputs": [
    {
     "name": "stdout",
     "output_type": "stream",
     "text": [
      "15\n",
      "15\n",
      "9\n",
      "False\n",
      "+++++ Hard enemy ++++++++++++\n",
      "15\n",
      "15\n",
      "True\n",
      "59\n"
     ]
    }
   ],
   "source": [
    "print(easy_enemy.x)\n",
    "print(easy_enemy.y)\n",
    "print(easy_enemy.num_lives)\n",
    "print(easy_enemy.is_poisonous)\n",
    "\n",
    "print(\"+++++ Hard enemy ++++++++++++\")\n",
    "print(hard_enemy.x)\n",
    "print(hard_enemy.y)\n",
    "print(hard_enemy.is_poisonous)\n",
    "print(hard_enemy.num_lives)"
   ]
  },
  {
   "cell_type": "code",
   "execution_count": 25,
   "metadata": {},
   "outputs": [],
   "source": [
    "class Sprite:\n",
    "\n",
    "    def __init__(self, x, y, img_file, speed, life_counter):\n",
    "        self.x = x \n",
    "        self.y = y \n",
    "        self.img_file = img_file \n",
    "        self.speed = speed \n",
    "        self.life_counter = life_counter \n",
    "\n",
    "class Enemy(Sprite):\n",
    "\n",
    "    def __init__(self, x, y, img_file, speed):\n",
    "        super().__init__(x, y, img_file, speed, 5)\n",
    "        self.message = \"I will kill them!\" \n",
    "\n",
    "class Player(Sprite):\n",
    "\n",
    "    def __init__(self, x, y, img_file, speed=56, life_counter=6):\n",
    "        super().__init__(x, y, img_file, speed, life_counter)\n",
    "        \n",
    "class DificultEnemy(Enemy):\n",
    "\n",
    "    def __init__(self, x, y, img_file):\n",
    "        super().__init__(x, y, img_file, 80)\n",
    "\n",
    "class EasyEnemy(Enemy):\n",
    "\n",
    "    def __init__(self, x, y, img_file):\n",
    "        super().__init__(x, y, img_file, 40)\n",
    "        self.life_counter =1\n"
   ]
  },
  {
   "cell_type": "code",
   "execution_count": 30,
   "metadata": {},
   "outputs": [],
   "source": [
    "class Polygon:\n",
    "\n",
    "    def __init__(self, num_sides, color):\n",
    "        self.num_sides = num_sides \n",
    "        self.color = color \n",
    "\n",
    "    def describe_polygon(self):\n",
    "        print(f\"This Polygon has {self.num_sides} sides and it's {self.color} color\")\n",
    "\n",
    "class Trigangle(Polygon):\n",
    "\n",
    "    NUM_SIDES = 3\n",
    "\n",
    "    def __init__(self, base, height, color):\n",
    "        super().__init__(Trigangle.NUM_SIDES, color)\n",
    "        self.base = base \n",
    "        self.height = height\n",
    "\n",
    "    def find_area(self):\n",
    "        return self.base * self.height / 2\n",
    "\n",
    "class Square(Polygon):\n",
    "\n",
    "    NUM_SIDES = 4\n",
    "\n",
    "    def __init__(self, side_length, color):\n",
    "        super().__init__(Square.NUM_SIDES, color)\n",
    "        self.side_length = side_length\n",
    "\n",
    "    def find_area(self):\n",
    "        return self.side_length ** 2"
   ]
  },
  {
   "cell_type": "code",
   "execution_count": 32,
   "metadata": {},
   "outputs": [
    {
     "name": "stdout",
     "output_type": "stream",
     "text": [
      "This Polygon has 3 sides and it's Blue color\n",
      "6.0\n",
      "This Polygon has 4 sides and it's Red color\n",
      "16\n"
     ]
    }
   ],
   "source": [
    "my_triangle = Trigangle(3, 4, \"Blue\")\n",
    "my_triangle.describe_polygon()\n",
    "print(my_triangle.find_area())\n",
    "\n",
    "my_square = Square(4, \"Red\")\n",
    "my_square.describe_polygon()\n",
    "print(my_square.find_area())"
   ]
  },
  {
   "cell_type": "code",
   "execution_count": 37,
   "metadata": {},
   "outputs": [],
   "source": [
    "class Triangle:\n",
    "\n",
    "    def __init__(self, base, height):\n",
    "        self.base = base \n",
    "        self.height = height \n",
    "\n",
    "    def find_area(self):\n",
    "        print(self.base * self.height / 2)\n",
    "\n",
    "class RightTriangle(Triangle):\n",
    "\n",
    "    def display_area(self):\n",
    "        print(\"Display right triangle area:\")\n",
    "        Triangle.find_area(self)"
   ]
  },
  {
   "cell_type": "code",
   "execution_count": 38,
   "metadata": {},
   "outputs": [
    {
     "name": "stdout",
     "output_type": "stream",
     "text": [
      "Display right triangle area:\n",
      "6.0\n"
     ]
    }
   ],
   "source": [
    "right_triangle = RightTriangle(3, 4)\n",
    "right_triangle.display_area()\n"
   ]
  },
  {
   "cell_type": "code",
   "execution_count": 39,
   "metadata": {},
   "outputs": [],
   "source": [
    "class BankAccount:\n",
    "\n",
    "    def __init__(self, owner, balance, currency):\n",
    "        self.owner = owner \n",
    "        self.balance = balance \n",
    "        self.currency = currency \n",
    "\n",
    "    def print_balance(self):\n",
    "        print(\"Your account balance is : \")\n",
    "        print(self.balance)\n",
    "\n",
    "    def make_deposit(self, amount):\n",
    "        if amount > 0:\n",
    "            self.balance += self.balance\n",
    "        else:\n",
    "            print(\"Please enter the valid amount\")\n",
    "\n",
    "    def make_widrawal(self, amount):\n",
    "        if self.balance - amount == 0:\n",
    "            self.balance -= amount\n",
    "        else:\n",
    "            print(\"Your account doesn't have balance\")\n",
    "\n",
    "class SavingsBankAccount(BankAccount):\n",
    "\n",
    "    INTEREST_RATE = 0.35 \n",
    "\n",
    "    def __init__(self, owner, balance, currency):\n",
    "        super().__init__(owner, balance, currency)\n",
    "        self.intrest_rate = SavingsBankAccount.INTEREST_RATE \n",
    "\n",
    "    def deposit_intrest_earned(self):\n",
    "        interest_earned =  self.balance * self.intrest_rate\n",
    "        self.balance += interest_earned\n",
    "\n",
    "class CheckingBankAccount(BankAccount):\n",
    "\n",
    "    def __init__(self, owner, balance, currency, credic_card=None, debit_card=None):\n",
    "        super().__init__(owner, balance, currency)\n",
    "        self.credic_card = credic_card \n",
    "        self.debit_card = debit_card        \n"
   ]
  },
  {
   "cell_type": "code",
   "execution_count": 40,
   "metadata": {},
   "outputs": [],
   "source": [
    "my_savings_account = SavingsBankAccount(\"Noura\", 900000, \"Doller\")"
   ]
  },
  {
   "cell_type": "code",
   "execution_count": 41,
   "metadata": {},
   "outputs": [
    {
     "name": "stdout",
     "output_type": "stream",
     "text": [
      "Your account balance is : \n",
      "900000\n",
      "Your account doesn't have balance\n",
      "Your account balance is : \n",
      "2430000.0\n"
     ]
    }
   ],
   "source": [
    "my_savings_account.print_balance()\n",
    "my_savings_account.make_deposit(500)\n",
    "my_savings_account.make_widrawal(1000)\n",
    "\n",
    "my_savings_account.deposit_intrest_earned()\n",
    "my_savings_account.print_balance()"
   ]
  },
  {
   "cell_type": "code",
   "execution_count": 42,
   "metadata": {},
   "outputs": [],
   "source": [
    "class Calculator:\n",
    "\n",
    "    def __init__(self, serial):\n",
    "        self.serial = serial \n",
    "\n",
    "    def add(self, a, b):\n",
    "        return a+b \n",
    "    \n",
    "    def multiply(self, a, b):\n",
    "        return a*b\n",
    "\n",
    "    def devide(a, b):\n",
    "        return a//b \n",
    "\n",
    "class GeometircCalculator(Calculator):\n",
    "\n",
    "    pi = 3.142\n",
    "\n",
    "    def find_circle_area(self, radius):\n",
    "        return GeometircCalculator.pi * (radius ** 2)  "
   ]
  },
  {
   "cell_type": "code",
   "execution_count": 44,
   "metadata": {},
   "outputs": [],
   "source": [
    "geo_calc = GeometircCalculator(4)"
   ]
  },
  {
   "cell_type": "code",
   "execution_count": 45,
   "metadata": {},
   "outputs": [
    {
     "data": {
      "text/plain": [
       "78.55"
      ]
     },
     "execution_count": 45,
     "metadata": {},
     "output_type": "execute_result"
    }
   ],
   "source": [
    "geo_calc.find_circle_area(5)"
   ]
  },
  {
   "cell_type": "code",
   "execution_count": 46,
   "metadata": {},
   "outputs": [],
   "source": [
    "class Professor:\n",
    "\n",
    "    def __init__(self, name, age, course):\n",
    "        self.name = name \n",
    "        self.age = age \n",
    "        self.course = course \n",
    "\n",
    "    def greet_student(self):\n",
    "        print(\"Welcome to class !\")\n",
    "\n",
    "class ScienceProfessor(Professor):\n",
    "\n",
    "    def greet_student(self):\n",
    "        print(\"Hi Welcome to science professor class!!\")\n",
    "        super().greet_student()"
   ]
  },
  {
   "cell_type": "code",
   "execution_count": 47,
   "metadata": {},
   "outputs": [
    {
     "name": "stdout",
     "output_type": "stream",
     "text": [
      "Hi Welcome to science professor class!!\n",
      "Welcome to class !\n"
     ]
    }
   ],
   "source": [
    "science_prof = ScienceProfessor(\"Karan\", 44, \"DDD\")\n",
    "science_prof.greet_student()"
   ]
  },
  {
   "cell_type": "code",
   "execution_count": 48,
   "metadata": {},
   "outputs": [],
   "source": [
    "class Backpack:\n",
    "\n",
    "    def __init__(self):\n",
    "        self.items = []\n",
    "\n",
    "    def add_snack(self, snack):\n",
    "        print(\"Adding snack to the backpack\")\n",
    "        self.items.append(snack)\n",
    "\n",
    "class StudentBackpack(Backpack):\n",
    "\n",
    "    def add_snack(self, snack):\n",
    "        print(\"It's a time to school.. lets add snack to the backpack\")\n",
    "        super().add_snack(snack)\n",
    "        print(\"These are the items in the backpack: \", self.items)"
   ]
  },
  {
   "cell_type": "code",
   "execution_count": 49,
   "metadata": {},
   "outputs": [
    {
     "name": "stdout",
     "output_type": "stream",
     "text": [
      "It's a time to school.. lets add snack to the backpack\n",
      "Adding snack to the backpack\n",
      "These are the items in the backpack:  ['Chacolate']\n"
     ]
    }
   ],
   "source": [
    "backpack = StudentBackpack()\n",
    "backpack.add_snack(\"Chacolate\")"
   ]
  },
  {
   "cell_type": "code",
   "execution_count": null,
   "metadata": {},
   "outputs": [],
   "source": []
  }
 ],
 "metadata": {
  "kernelspec": {
   "display_name": "base",
   "language": "python",
   "name": "python3"
  },
  "language_info": {
   "codemirror_mode": {
    "name": "ipython",
    "version": 3
   },
   "file_extension": ".py",
   "mimetype": "text/x-python",
   "name": "python",
   "nbconvert_exporter": "python",
   "pygments_lexer": "ipython3",
   "version": "3.9.13"
  }
 },
 "nbformat": 4,
 "nbformat_minor": 2
}
