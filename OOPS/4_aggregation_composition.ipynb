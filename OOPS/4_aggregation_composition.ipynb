{
 "cells": [
  {
   "cell_type": "code",
   "execution_count": null,
   "metadata": {},
   "outputs": [],
   "source": []
  },
  {
   "cell_type": "markdown",
   "metadata": {},
   "source": [
    "#### Aggregation:\n",
    "Aggregation is a \"has a\" relationship \n",
    "\n",
    "Instance of class B has an instance of class A, but they can both exists indepandently \n",
    "\n",
    "If the programmer removes the instance of class B, the instace of class A can still exist on it's own \n",
    "\n",
    "#### Composition\n",
    "In Composition, composed object cannot exist without the object that contains it\n"
   ]
  },
  {
   "cell_type": "code",
   "execution_count": 9,
   "metadata": {},
   "outputs": [],
   "source": [
    "# Aggregation example\n",
    "\n",
    "class Die:\n",
    "    def __init__(self, value):\n",
    "        self.value = value \n",
    "\n",
    "class Person:\n",
    "    def __init__(self, die):\n",
    "        self.die = die \n",
    "\n",
    "my_die = Die(5)\n",
    "\n",
    "person = Person(my_die)"
   ]
  },
  {
   "cell_type": "code",
   "execution_count": 7,
   "metadata": {},
   "outputs": [],
   "source": [
    "# Composition example\n",
    "\n",
    "class Die:\n",
    "    def __init__(self, value):\n",
    "        self.value = value \n",
    "\n",
    "class Player:\n",
    "    def __init__(self):\n",
    "        # create the instance of die inside the instance of Player.\n",
    "        # This Die instace cannot exist without the Player instance that contains it.\n",
    "        self.die = Die(5)"
   ]
  },
  {
   "cell_type": "code",
   "execution_count": 2,
   "metadata": {},
   "outputs": [],
   "source": [
    "class Vehicle:\n",
    "    def __init__(self, color, license_plate, is_electric):\n",
    "        self.color = color \n",
    "        self.license_plate = license_plate \n",
    "        self.is_electric = is_electric\n",
    "\n",
    "    def show_license_plate(self):\n",
    "        return self.license_plate \n",
    "    \n",
    "    def show_info(self):\n",
    "        print(\"My Vehicle: \")\n",
    "        print(f\"Color: {self.color}\")\n",
    "        print(f\"license plate: {self.license_plate}\")\n",
    "        print(f\"is electric: {self.is_electric}\")\n",
    "\n",
    "class Employee:\n",
    "    def __init__(self, name, vehicle):\n",
    "        self.name = name \n",
    "        self.vehicle = vehicle \n",
    "\n",
    "    def show_vehicle_info(self):\n",
    "        self.vehicle.show_info()"
   ]
  },
  {
   "cell_type": "code",
   "execution_count": 3,
   "metadata": {},
   "outputs": [],
   "source": [
    "vehicle = Vehicle(\"black\", \"KA XYZ\", is_electric=False)\n",
    "emp =Employee(\"joe\", vehicle)"
   ]
  },
  {
   "cell_type": "code",
   "execution_count": 6,
   "metadata": {},
   "outputs": [
    {
     "name": "stdout",
     "output_type": "stream",
     "text": [
      "black\n",
      "KA XYZ\n"
     ]
    }
   ],
   "source": [
    "print(emp.vehicle.color)\n",
    "print(emp.vehicle.license_plate)"
   ]
  },
  {
   "cell_type": "code",
   "execution_count": 5,
   "metadata": {},
   "outputs": [
    {
     "name": "stdout",
     "output_type": "stream",
     "text": [
      "My Vehicle: \n",
      "Color: black\n",
      "license plate: KA XYZ\n",
      "is electric: False\n"
     ]
    }
   ],
   "source": [
    "emp.vehicle.show_info()"
   ]
  },
  {
   "cell_type": "code",
   "execution_count": null,
   "metadata": {},
   "outputs": [],
   "source": []
  }
 ],
 "metadata": {
  "kernelspec": {
   "display_name": "base",
   "language": "python",
   "name": "python3"
  },
  "language_info": {
   "codemirror_mode": {
    "name": "ipython",
    "version": 3
   },
   "file_extension": ".py",
   "mimetype": "text/x-python",
   "name": "python",
   "nbconvert_exporter": "python",
   "pygments_lexer": "ipython3",
   "version": "3.9.13"
  },
  "orig_nbformat": 4
 },
 "nbformat": 4,
 "nbformat_minor": 2
}
