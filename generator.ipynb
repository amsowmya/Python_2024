{
 "cells": [
  {
   "cell_type": "code",
   "execution_count": 2,
   "metadata": {},
   "outputs": [],
   "source": [
    "# Generator is specific type of iterator"
   ]
  },
  {
   "cell_type": "code",
   "execution_count": 3,
   "metadata": {},
   "outputs": [],
   "source": [
    "def remote_control():\n",
    "    yield 'NDTV'\n",
    "    yield 'CNN'\n",
    "    yield 'ESPN'"
   ]
  },
  {
   "cell_type": "code",
   "execution_count": 6,
   "metadata": {},
   "outputs": [
    {
     "data": {
      "text/plain": [
       "generator"
      ]
     },
     "execution_count": 6,
     "metadata": {},
     "output_type": "execute_result"
    }
   ],
   "source": [
    "rc = remote_control()\n",
    "type(rc)"
   ]
  },
  {
   "cell_type": "code",
   "execution_count": 7,
   "metadata": {},
   "outputs": [
    {
     "name": "stdout",
     "output_type": "stream",
     "text": [
      "NDTV\n",
      "CNN\n",
      "ESPN\n"
     ]
    }
   ],
   "source": [
    "for channel in rc:\n",
    "    print(channel)"
   ]
  },
  {
   "cell_type": "code",
   "execution_count": 8,
   "metadata": {},
   "outputs": [
    {
     "data": {
      "text/plain": [
       "'NDTV'"
      ]
     },
     "execution_count": 8,
     "metadata": {},
     "output_type": "execute_result"
    }
   ],
   "source": [
    "rc = remote_control()\n",
    "next(rc)"
   ]
  },
  {
   "cell_type": "code",
   "execution_count": 9,
   "metadata": {},
   "outputs": [
    {
     "data": {
      "text/plain": [
       "'CNN'"
      ]
     },
     "execution_count": 9,
     "metadata": {},
     "output_type": "execute_result"
    }
   ],
   "source": [
    "next(rc)"
   ]
  },
  {
   "cell_type": "code",
   "execution_count": 10,
   "metadata": {},
   "outputs": [
    {
     "data": {
      "text/plain": [
       "'ESPN'"
      ]
     },
     "execution_count": 10,
     "metadata": {},
     "output_type": "execute_result"
    }
   ],
   "source": [
    "next(rc)"
   ]
  },
  {
   "cell_type": "code",
   "execution_count": 11,
   "metadata": {},
   "outputs": [
    {
     "ename": "StopIteration",
     "evalue": "",
     "output_type": "error",
     "traceback": [
      "\u001b[1;31m---------------------------------------------------------------------------\u001b[0m",
      "\u001b[1;31mStopIteration\u001b[0m                             Traceback (most recent call last)",
      "Cell \u001b[1;32mIn[11], line 1\u001b[0m\n\u001b[1;32m----> 1\u001b[0m \u001b[38;5;28;43mnext\u001b[39;49m\u001b[43m(\u001b[49m\u001b[43mrc\u001b[49m\u001b[43m)\u001b[49m\n",
      "\u001b[1;31mStopIteration\u001b[0m: "
     ]
    }
   ],
   "source": [
    "next(rc)"
   ]
  },
  {
   "cell_type": "code",
   "execution_count": 12,
   "metadata": {},
   "outputs": [],
   "source": [
    "def get_company_data():\n",
    "    data = []\n",
    "    for i in range(3):\n",
    "        with open(f'stock_{i+1}.txt', 'r') as f:\n",
    "            content = f.read()\n",
    "            data.append(content)\n",
    "    return data"
   ]
  },
  {
   "cell_type": "code",
   "execution_count": 13,
   "metadata": {},
   "outputs": [
    {
     "data": {
      "text/plain": [
       "['{\\n    \"ticker\": \"AAPL\",\\n    \"price\": 227.67,\\n    \"date\": \"2024-08-28\",\\n    \"pe\": 23.4,\\n    \"market_cap\": 2410000000000.0,\\n    \"dividend_yield\": 0.6,\\n    \"price_to_book\": 31.8,\\n    \"dps\": 0.92,\\n    \"ebitda\": 94680000000.0,\\n    \"price_to_sales\": 7.3,\\n    \"earnings_per_share\": 9.73,\\n    \"revenue\": 387530000000.0,\\n    \"gross_margin\": 43.3,\\n    \"net_profit_margin\": 25.9,\\n    \"debt_to_equity\": 1.8,\\n    \"cash_flow\": 104300000000.0,\\n    \"operating_margin\": 30.2\\n}',\n",
       " '{\\n    \"ticker\": \"RIL\",\\n    \"price\": 2589.75,\\n    \"date\": \"2024-08-28\",\\n    \"pe\": 26.7,\\n    \"market_cap\": 1950000000000.0,\\n    \"dividend_yield\": 0.8,\\n    \"price_to_book\": 2.9,\\n    \"dps\": 15.0,\\n    \"ebitda\": 1100000000000.0,\\n    \"price_to_sales\": 1.5,\\n    \"earnings_per_share\": 97.5,\\n    \"revenue\": 6800000000000.0,\\n    \"gross_margin\": 20.4,\\n    \"net_profit_margin\": 6.3,\\n    \"debt_to_equity\": 0.4,\\n    \"cash_flow\": 820500000000.0\\n}\\n',\n",
       " '{\\n    \"ticker\": \"NVDA\",\\n    \"price\": 492.21,\\n    \"date\": \"2024-08-28\",\\n    \"pe\": 45.3,\\n    \"market_cap\": 1230000000000.0,\\n    \"dividend_yield\": 0.07,\\n    \"price_to_book\": 23.5,\\n    \"dps\": 0.16,\\n    \"ebitda\": 16400000000.0,\\n    \"price_to_sales\": 17.6,\\n    \"earnings_per_share\": 10.85,\\n    \"revenue\": 26900000000.0,\\n    \"gross_margin\": 64.1,\\n    \"net_profit_margin\": 36.2,\\n    \"debt_to_equity\": 0.5,\\n    \"cash_flow\": 9100000000.0,\\n    \"operating_margin\": 40.8\\n}\\n']"
      ]
     },
     "execution_count": 13,
     "metadata": {},
     "output_type": "execute_result"
    }
   ],
   "source": [
    "get_company_data()"
   ]
  },
  {
   "cell_type": "code",
   "execution_count": 16,
   "metadata": {},
   "outputs": [],
   "source": [
    "def get_company_data():\n",
    "\n",
    "    for i in range(3):\n",
    "        with open(f'stock_{i+1}.txt', 'r') as f:\n",
    "            content = f.read()\n",
    "            yield content"
   ]
  },
  {
   "cell_type": "code",
   "execution_count": 17,
   "metadata": {},
   "outputs": [
    {
     "name": "stdout",
     "output_type": "stream",
     "text": [
      "{\n",
      "    \"ticker\": \"AAPL\",\n",
      "    \"price\": 227.67,\n",
      "    \"date\": \"2024-08-28\",\n",
      "    \"pe\": 23.4,\n",
      "    \"market_cap\": 2410000000000.0,\n",
      "    \"dividend_yield\": 0.6,\n",
      "    \"price_to_book\": 31.8,\n",
      "    \"dps\": 0.92,\n",
      "    \"ebitda\": 94680000000.0,\n",
      "    \"price_to_sales\": 7.3,\n",
      "    \"earnings_per_share\": 9.73,\n",
      "    \"revenue\": 387530000000.0,\n",
      "    \"gross_margin\": 43.3,\n",
      "    \"net_profit_margin\": 25.9,\n",
      "    \"debt_to_equity\": 1.8,\n",
      "    \"cash_flow\": 104300000000.0,\n",
      "    \"operating_margin\": 30.2\n",
      "}\n",
      "{\n",
      "    \"ticker\": \"RIL\",\n",
      "    \"price\": 2589.75,\n",
      "    \"date\": \"2024-08-28\",\n",
      "    \"pe\": 26.7,\n",
      "    \"market_cap\": 1950000000000.0,\n",
      "    \"dividend_yield\": 0.8,\n",
      "    \"price_to_book\": 2.9,\n",
      "    \"dps\": 15.0,\n",
      "    \"ebitda\": 1100000000000.0,\n",
      "    \"price_to_sales\": 1.5,\n",
      "    \"earnings_per_share\": 97.5,\n",
      "    \"revenue\": 6800000000000.0,\n",
      "    \"gross_margin\": 20.4,\n",
      "    \"net_profit_margin\": 6.3,\n",
      "    \"debt_to_equity\": 0.4,\n",
      "    \"cash_flow\": 820500000000.0\n",
      "}\n",
      "\n",
      "{\n",
      "    \"ticker\": \"NVDA\",\n",
      "    \"price\": 492.21,\n",
      "    \"date\": \"2024-08-28\",\n",
      "    \"pe\": 45.3,\n",
      "    \"market_cap\": 1230000000000.0,\n",
      "    \"dividend_yield\": 0.07,\n",
      "    \"price_to_book\": 23.5,\n",
      "    \"dps\": 0.16,\n",
      "    \"ebitda\": 16400000000.0,\n",
      "    \"price_to_sales\": 17.6,\n",
      "    \"earnings_per_share\": 10.85,\n",
      "    \"revenue\": 26900000000.0,\n",
      "    \"gross_margin\": 64.1,\n",
      "    \"net_profit_margin\": 36.2,\n",
      "    \"debt_to_equity\": 0.5,\n",
      "    \"cash_flow\": 9100000000.0,\n",
      "    \"operating_margin\": 40.8\n",
      "}\n",
      "\n"
     ]
    }
   ],
   "source": [
    "for company_data in get_company_data():\n",
    "    print(company_data)"
   ]
  },
  {
   "cell_type": "code",
   "execution_count": 18,
   "metadata": {},
   "outputs": [],
   "source": [
    "def fibonacci():\n",
    "    a, b = 0, 1\n",
    "    while True:\n",
    "        yield a\n",
    "        a, b = b, a+b"
   ]
  },
  {
   "cell_type": "code",
   "execution_count": 19,
   "metadata": {},
   "outputs": [
    {
     "name": "stdout",
     "output_type": "stream",
     "text": [
      "0\n",
      "1\n",
      "1\n",
      "2\n",
      "3\n",
      "5\n",
      "8\n",
      "13\n",
      "21\n",
      "34\n"
     ]
    }
   ],
   "source": [
    "fib_gen = fibonacci()\n",
    "\n",
    "for num in range(10):\n",
    "    print(next(fib_gen))"
   ]
  },
  {
   "cell_type": "code",
   "execution_count": null,
   "metadata": {},
   "outputs": [],
   "source": []
  }
 ],
 "metadata": {
  "kernelspec": {
   "display_name": "deeplearning",
   "language": "python",
   "name": "python3"
  },
  "language_info": {
   "codemirror_mode": {
    "name": "ipython",
    "version": 3
   },
   "file_extension": ".py",
   "mimetype": "text/x-python",
   "name": "python",
   "nbconvert_exporter": "python",
   "pygments_lexer": "ipython3",
   "version": "3.10.0"
  }
 },
 "nbformat": 4,
 "nbformat_minor": 2
}
