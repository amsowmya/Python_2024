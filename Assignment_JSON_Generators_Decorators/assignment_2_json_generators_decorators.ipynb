{
 "cells": [
  {
   "cell_type": "markdown",
   "id": "8db972a9",
   "metadata": {},
   "source": [
    "<h2 align=\"center\" style=\"color:blue\">Codebasics Python Course: Exercise - JSON, Generators, Decorators</h2>"
   ]
  },
  {
   "cell_type": "markdown",
   "id": "19e6c089-394e-4180-80c9-95e8aa647171",
   "metadata": {},
   "source": [
    "**Loki** appreciates and conveys thank you for the help you provided with his previous ad-hoc tasks.\n",
    "\n",
    "As you've handled things well, he has some slightly more advanced ad-hoc tasks for you below.\n",
    "\n",
    "Have fun working on them! 😜"
   ]
  },
  {
   "cell_type": "markdown",
   "id": "95ff4e7d",
   "metadata": {},
   "source": [
    "### Task 1: Client Sales Data\n",
    "\n",
    "**Scenario:**  One of the Python developers, who was handling a retail client, went on vacation. However, the client has an urgent requirement to understand their sales data. Loki reached out to you for help with this. The sales records are stored in JSON format, detailing products, quantities sold, and sales categories.\n",
    "\n",
    "\n",
    "1. Load sales data from ```sales_data.json``` into a dictionary.\n",
    "\n",
    "   \n",
    "This task helps you provide actionable business insights from raw sales data."
   ]
  },
  {
   "cell_type": "code",
   "execution_count": 2,
   "id": "58c1c79a",
   "metadata": {},
   "outputs": [
    {
     "data": {
      "text/plain": [
       "[{'product': 'Laptop',\n",
       "  'category': 'Electronics',\n",
       "  'quantity': 15,\n",
       "  'price_per_unit': 1200},\n",
       " {'product': 'Jeans',\n",
       "  'category': 'Apparel',\n",
       "  'quantity': 40,\n",
       "  'price_per_unit': 50},\n",
       " {'product': 'Blender',\n",
       "  'category': 'Home Appliances',\n",
       "  'quantity': 25,\n",
       "  'price_per_unit': 150},\n",
       " {'product': 'Smartphone',\n",
       "  'category': 'Electronics',\n",
       "  'quantity': 30,\n",
       "  'price_per_unit': 800},\n",
       " {'product': 'Jacket',\n",
       "  'category': 'Apparel',\n",
       "  'quantity': 20,\n",
       "  'price_per_unit': 120}]"
      ]
     },
     "execution_count": 2,
     "metadata": {},
     "output_type": "execute_result"
    }
   ],
   "source": [
    "# write your code here\n",
    "import json\n",
    "\n",
    "with open('C:\\Sowmya\\Personal\\Python\\Python_tutorial\\Assignment_JSON_Generators_Decorators\\sales_data.json', 'r') as f:\n",
    "    content = json.load(f)\n",
    "\n",
    "content"
   ]
  },
  {
   "cell_type": "markdown",
   "id": "a8a49eba",
   "metadata": {},
   "source": [
    "### Task 2: Calculate and Display Total Sales by Category\n",
    "\n",
    "**Scenario:** Continuing your role, after successfully loading and organizing the sales data from a retail client, your next step is to provide a breakdown of total sales per category.\n",
    "\n",
    "1. Aggregate this data by product category to calculate total sales per category.\n",
    "2. Print the results, showing the total sales for each product category."
   ]
  },
  {
   "cell_type": "code",
   "execution_count": 16,
   "id": "cec25c2c",
   "metadata": {},
   "outputs": [
    {
     "data": {
      "text/plain": [
       "{'Electronics': 42000, 'Apparel': 4400, 'Home Appliances': 3750}"
      ]
     },
     "execution_count": 16,
     "metadata": {},
     "output_type": "execute_result"
    }
   ],
   "source": [
    "# write your code here\n",
    "# aggregated_sale = [{'category': cont['category'], 'total_sales': cont['quantity'] * cont['price_per_unit']} for cont in content]\n",
    "# aggregated_sale\n",
    "\n",
    "category_sales = {}\n",
    "\n",
    "for item in content:\n",
    "    category = item['category']\n",
    "    total_sale = item['quantity'] * item['price_per_unit']\n",
    "    if category in category_sales:\n",
    "        category_sales[category] += total_sale\n",
    "    else:\n",
    "        category_sales[category] = total_sale\n",
    "\n",
    "category_sales"
   ]
  },
  {
   "cell_type": "markdown",
   "id": "4edb28b4",
   "metadata": {},
   "source": [
    "### Task 3: Output Aggregated Sales Data to JSON File\n",
    "\n",
    "**Scenario:** Building on your previous work, where you calculated total sales by category, your client now requires this information in a structured digital format for integration into their business systems.\n",
    "\n",
    "1. Generate a JSON file named ```aggregated_sales.json``` containing the total sales data by category.\n",
    "2. Ensure the data is formatted as a list of dictionaries, each representing a category and its corresponding total sales.\n",
    "   \n",
    "**Expected JSON Output Format:**\n",
    "\n",
    "```\n",
    "[\n",
    "    {\n",
    "        \"category\": \"Electronics\",\n",
    "        \"total_sales\": 42000\n",
    "    },\n",
    "    {\n",
    "        \"category\": \"Apparel\",\n",
    "        \"total_sales\": 4400\n",
    "    },\n",
    "    {\n",
    "        \"category\": \"Home Appliances\",\n",
    "        \"total_sales\": 3750\n",
    "    }\n",
    "]\n",
    "```"
   ]
  },
  {
   "cell_type": "code",
   "execution_count": 22,
   "id": "eea9b713",
   "metadata": {},
   "outputs": [
    {
     "data": {
      "text/plain": [
       "[{'category': 'Electronics', 'total_sales': 42000},\n",
       " {'category': 'Apparel', 'total_sales': 4400},\n",
       " {'category': 'Home Appliances', 'total_sales': 3750}]"
      ]
     },
     "execution_count": 22,
     "metadata": {},
     "output_type": "execute_result"
    }
   ],
   "source": [
    "aggregated_sal = [{'category':key, 'total_sales': value} for key, value in category_sales.items()]\n",
    "aggregated_sal"
   ]
  },
  {
   "cell_type": "code",
   "execution_count": 24,
   "id": "1a000254",
   "metadata": {},
   "outputs": [],
   "source": [
    "# write your code here\n",
    "with open('aggregated_sale.json', 'w') as f:\n",
    "    json.dump(aggregated_sal, f, indent=4)"
   ]
  },
  {
   "cell_type": "markdown",
   "id": "fcada7bc",
   "metadata": {},
   "source": [
    "### Task 4: Monitor and Filter Temperature Readings\n",
    "\n",
    "**Scenario:** At **AtliQ**, your next ad-hoc task involves monitoring equipment sensor data to promptly identify any readings that suggest potential overheating. The sensor data file ```sensor_data.txt``` is so HUGE that you can't read it all at once (For this exercise we have given a small file but just assume that in real life such a file will be pretty HUGE).\n",
    "\n",
    "**Objective:** Develop a Python program with a generator function `read_and_filter_temperatures` that efficiently processes this large dataset by:\n",
    "\n",
    "1. Taking two parameters: ```filename``` (the name of the sensor data file) and ```threshold``` (the temperature limit that indicates overheating).\n",
    "2. Yielding temperatures that exceed the specified threshold.\n",
    "3. Printing each critical temperature reading as it's identified to allow immediate action."
   ]
  },
  {
   "cell_type": "code",
   "execution_count": 42,
   "id": "76aea479",
   "metadata": {},
   "outputs": [
    {
     "name": "stdout",
     "output_type": "stream",
     "text": [
      "Filtered temperature is :\n",
      "21.8 C\n",
      "22.5 C\n",
      "24.1 C\n"
     ]
    }
   ],
   "source": [
    "# write your code here\n",
    "def read_and_filter_temperatures(filename, threshold):\n",
    "    with open(filename, 'r') as f:\n",
    "        for line in f:\n",
    "            parts = line.strip().split(',')\n",
    "            temp = float(parts[1])\n",
    "            if temp > threshold:\n",
    "                yield temp\n",
    "\n",
    "\n",
    "filename = \"C:\\Sowmya\\Personal\\Python\\Python_tutorial\\Assignment_JSON_Generators_Decorators\\sensor_data.txt\"\n",
    "threshold = 20\n",
    "filtered_temp = read_and_filter_temperatures(filename, threshold)\n",
    "\n",
    "print(\"Filtered temperature is :\")\n",
    "for temp in filtered_temp:\n",
    "    print(f'{temp} C')"
   ]
  },
  {
   "cell_type": "markdown",
   "id": "a1e66533",
   "metadata": {},
   "source": [
    "### Task 5: Optimize API Usage with Caching for Client Financial Data Retrieval\n",
    "\n",
    "At AtliQ, you have been assigned to work on a new ad-hoc task for a client project involving a FINTECH company. Your task is to retrieve the company name based on the company's ticker. For example, for the ticker \"AAPL\", the company name will be \"Apple Inc.\". \n",
    "\n",
    "You are using the Bloomberg API for this, and each API call costs money. To reduce expenses, you want to implement a caching function using a decorator so that if a company name has previously been retrieved, it will be fetched from the cache; otherwise, an API call will be made. We don't have an actual API for this exercise, but we've provided you with a function called `get_company_name`, for which you can assume that every call incurs a cost, and your goal is to minimize the number of calls.\n",
    "\n",
    "You will write a decorator,\n",
    "\n",
    "```\n",
    "def cache_decorator(func):\n",
    "```\n",
    "\n",
    "And annotate the main function\n",
    "```\n",
    "@cache_decorator\n",
    "def get_company_name(ticker):\n",
    "```"
   ]
  },
  {
   "cell_type": "code",
   "execution_count": 2,
   "id": "168dcaf0",
   "metadata": {},
   "outputs": [],
   "source": [
    "def get_company_name(ticker):\n",
    "    \"\"\"Simulated API function to fetch a company name based on the ticker symbol.\"\"\"\n",
    "    # Simulate different responses based on the ticker symbol\n",
    "    api_responses = {\n",
    "        \"AAPL\": \"Apple Inc.\",\n",
    "        \"MSFT\": \"Microsoft Corporation\",\n",
    "        \"GOOGL\": \"Alphabet Inc.\"\n",
    "    }\n",
    "    return api_responses.get(ticker, \"Unknown Company\")"
   ]
  },
  {
   "cell_type": "code",
   "execution_count": 5,
   "id": "7ee2dedc-9044-4e62-8353-c6458efdd92d",
   "metadata": {},
   "outputs": [
    {
     "name": "stdout",
     "output_type": "stream",
     "text": [
      "API call for AAPL\n",
      "Apple Inc.\n",
      "Cache hit for AAPL\n",
      "Apple Inc.\n",
      "API call for MSFT\n",
      "Microsoft Corporation\n",
      "Cache hit for MSFT\n",
      "Microsoft Corporation\n",
      "API call for GOOGL\n",
      "Alphabet Inc.\n",
      "API call for GOOGLS\n",
      "Unknown Company\n"
     ]
    }
   ],
   "source": [
    "def cache_decorator(func):\n",
    "    # write your code here\n",
    "    cache = {}\n",
    "    def wrapper(ticker):\n",
    "        if ticker in cache:\n",
    "            print(f\"Cache hit for {ticker}\")\n",
    "            return cache[ticker]\n",
    "        else:\n",
    "            result = func(ticker)\n",
    "            print(f\"API call for {ticker}\")\n",
    "            cache[ticker] = result\n",
    "            return result\n",
    "    return wrapper\n",
    "\n",
    "@cache_decorator\n",
    "def get_company_name(ticker):\n",
    "    # write your code here\n",
    "    api_responses = {\n",
    "        \"AAPL\": \"Apple Inc.\",\n",
    "        \"MSFT\": \"Microsoft Corporation\",\n",
    "        \"GOOGL\": \"Alphabet Inc.\"\n",
    "    }\n",
    "    return api_responses.get(ticker, \"Unknown Company\")\n",
    "\n",
    "# Test the decorated function\n",
    "print(get_company_name(\"AAPL\"))  # Expected to trigger an API call\n",
    "print(get_company_name(\"AAPL\"))  # Expected to use cached data\n",
    "print(get_company_name(\"MSFT\"))  # Expected to trigger an API call\n",
    "print(get_company_name(\"MSFT\"))  # Expected to use cached data\n",
    "print(get_company_name(\"GOOGL\"))  # Expected to trigger an API call\n",
    "print(get_company_name(\"GOOGLS\"))  # Expected to use cached data"
   ]
  },
  {
   "cell_type": "code",
   "execution_count": null,
   "id": "a602baff",
   "metadata": {},
   "outputs": [],
   "source": []
  }
 ],
 "metadata": {
  "kernelspec": {
   "display_name": "Python 3 (ipykernel)",
   "language": "python",
   "name": "python3"
  },
  "language_info": {
   "codemirror_mode": {
    "name": "ipython",
    "version": 3
   },
   "file_extension": ".py",
   "mimetype": "text/x-python",
   "name": "python",
   "nbconvert_exporter": "python",
   "pygments_lexer": "ipython3",
   "version": "3.10.0"
  }
 },
 "nbformat": 4,
 "nbformat_minor": 5
}
